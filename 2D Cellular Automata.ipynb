{
  "nbformat": 4,
  "nbformat_minor": 0,
  "metadata": {
    "colab": {
      "name": "2D Cellular Automata.ipynb",
      "provenance": [],
      "collapsed_sections": [],
      "authorship_tag": "ABX9TyPmfKWIwdBSoB/NpxcvJmSE",
      "include_colab_link": true
    },
    "kernelspec": {
      "name": "python3",
      "display_name": "Python 3"
    }
  },
  "cells": [
    {
      "cell_type": "markdown",
      "metadata": {
        "id": "view-in-github",
        "colab_type": "text"
      },
      "source": [
        "<a href=\"https://colab.research.google.com/github/nahumsa/Cellular-Automata/blob/master/2D%20Cellular%20Automata.ipynb\" target=\"_parent\"><img src=\"https://colab.research.google.com/assets/colab-badge.svg\" alt=\"Open In Colab\"/></a>"
      ]
    },
    {
      "cell_type": "markdown",
      "metadata": {
        "id": "GBXuHSuY7ozA",
        "colab_type": "text"
      },
      "source": [
        "# 2D Cellular Automata\n",
        "\n",
        "In this notebook, I will show some examples of 2D Cellular Automata (CA)."
      ]
    },
    {
      "cell_type": "code",
      "metadata": {
        "id": "YwPPTBUl62GH",
        "colab_type": "code",
        "colab": {}
      },
      "source": [
        "import numpy as np\n",
        "import matplotlib.pyplot as plt\n",
        "%matplotlib inline"
      ],
      "execution_count": 0,
      "outputs": []
    },
    {
      "cell_type": "markdown",
      "metadata": {
        "id": "ZWrTKqAK8j0_",
        "colab_type": "text"
      },
      "source": [
        "## 1) Types of neighbor connectivity\n",
        "\n",
        "There are many types of neighboring connectivity. Let me show some examples"
      ]
    },
    {
      "cell_type": "markdown",
      "metadata": {
        "id": "2OWcBwHF81kr",
        "colab_type": "text"
      },
      "source": [
        "## 1.1) 4-Neighbor Cartesian\n",
        "\n",
        "This is also known as *Von Neumann neighborhood*. In the image we have the neighbors of the center cell."
      ]
    },
    {
      "cell_type": "code",
      "metadata": {
        "id": "VkaUsF-z8_h3",
        "colab_type": "code",
        "colab": {
          "base_uri": "https://localhost:8080/",
          "height": 248
        },
        "outputId": "3c503dbb-5dd8-4a2d-a44f-0ffb45fab1a4"
      },
      "source": [
        "def neumann_neighborhood(matrix,i,j):\n",
        "  \"\"\"Von Neumann Neighborhood\"\"\"\n",
        "  neighbors = [1, -1]\n",
        "  for neighbors_indices in neighbors:\n",
        "    matrix[i + neighbors_indices, j] = 1\n",
        "    matrix[i, j + neighbors_indices] = 1\n",
        "  return matrix\n",
        "\n",
        "N = 5\n",
        "M = np.zeros((N,N))\n",
        "M[N//2,N//2] = 2\n",
        "plt.imshow(neumann_neighborhood(M,N//2,N//2))\n",
        "plt.axis('off')\n",
        "plt.show()"
      ],
      "execution_count": 37,
      "outputs": [
        {
          "output_type": "display_data",
          "data": {
            "image/png": "[encoded data removed]",
            "text/plain": [
              "<Figure size 432x288 with 1 Axes>"
            ]
          },
          "metadata": {
            "tags": [],
            "needs_background": "light"
          }
        }
      ]
    },
    {
      "cell_type": "markdown",
      "metadata": {
        "id": "pNy_uLGm-dqW",
        "colab_type": "text"
      },
      "source": [
        "## 1.2) 8-Neighbor Cartesian\n",
        "\n",
        "This is also known as *Moore neighborhood*. In the image we have the neighbors of the center cell."
      ]
    },
    {
      "cell_type": "code",
      "metadata": {
        "id": "lhGetuOs-BbL",
        "colab_type": "code",
        "colab": {
          "base_uri": "https://localhost:8080/",
          "height": 248
        },
        "outputId": "71e94aa2-a34f-4bc6-ec6a-30d86b9a30e7"
      },
      "source": [
        "from itertools import permutations\n",
        "\n",
        "def moore_neighborhood(matrix,i,j):\n",
        "  \"\"\"Moore Neighborhood\"\"\"\n",
        "  neighbors = [1, -1]\n",
        "  for neighbors_indices_1,neighbors_indices_2 in permutations(neighbors):    \n",
        "    matrix[i + neighbors_indices_1, j] = 1\n",
        "    matrix[i, j + neighbors_indices_1] = 1\n",
        "    matrix[i + neighbors_indices_1, j + neighbors_indices_1] = 1\n",
        "    matrix[i + neighbors_indices_1, j + neighbors_indices_2] = 1\n",
        "  return matrix\n",
        "\n",
        "N = 5\n",
        "M = np.zeros((N,N))\n",
        "M[N//2,N//2] = 2\n",
        "plt.imshow(moore_neighborhood(M,N//2,N//2))\n",
        "plt.axis('off')\n",
        "plt.show()"
      ],
      "execution_count": 36,
      "outputs": [
        {
          "output_type": "display_data",
          "data": {
            "image/png": "[encoded data removed]",
            "text/plain": [
              "<Figure size 432x288 with 1 Axes>"
            ]
          },
          "metadata": {
            "tags": [],
            "needs_background": "light"
          }
        }
      ]
    },
    {
      "cell_type": "markdown",
      "metadata": {
        "id": "3POboJVRAhia",
        "colab_type": "text"
      },
      "source": [
        "## 1.3) 6-Neighbor Cartesian\n",
        "\n",
        "In the image we have the neighbors of the center cell. This is topologically equivalent to a triangular lattice."
      ]
    },
    {
      "cell_type": "code",
      "metadata": {
        "id": "LIDe11zY_F9-",
        "colab_type": "code",
        "colab": {
          "base_uri": "https://localhost:8080/",
          "height": 248
        },
        "outputId": "ef81b0fb-25d2-4615-abf2-d29292f89f48"
      },
      "source": [
        "def six_neighborhood(matrix,i,j):\n",
        "  \"\"\"6-neighbor Neighborhood\"\"\"\n",
        "  neighbors = [1, -1]\n",
        "  for neighbors_indices in neighbors:\n",
        "    matrix[i + neighbors_indices, j] = 1\n",
        "    matrix[i, j + neighbors_indices] = 1\n",
        "    matrix[i + neighbors_indices, j - neighbors_indices] = 1\n",
        "  return matrix\n",
        "\n",
        "N = 5\n",
        "M = np.zeros((N,N))\n",
        "M[N//2,N//2] = 2\n",
        "plt.imshow(six_neighborhood(M,N//2,N//2))\n",
        "plt.axis('off')\n",
        "plt.show()"
      ],
      "execution_count": 40,
      "outputs": [
        {
          "output_type": "display_data",
          "data": {
            "image/png": "[encoded data removed]",
            "text/plain": [
              "<Figure size 432x288 with 1 Axes>"
            ]
          },
          "metadata": {
            "tags": [],
            "needs_background": "light"
          }
        }
      ]
    },
    {
      "cell_type": "markdown",
      "metadata": {
        "id": "bRUCHTCkA4Il",
        "colab_type": "text"
      },
      "source": [
        "# 2) 2D Cellular Automaton"
      ]
    },
    {
      "cell_type": "code",
      "metadata": {
        "id": "vUBYYuRfBW8I",
        "colab_type": "code",
        "colab": {
          "base_uri": "https://localhost:8080/",
          "height": 764
        },
        "outputId": "bd63ef37-d262-4a15-b96b-31ff573f0985"
      },
      "source": [
        "def stencil(stype):\n",
        "  \"\"\"Creates the stencil for the 2D Cellular Automaton.\"\"\"\n",
        "  if stype == '6':\n",
        "    dx = np.array([1,0,1,-1,0,-1])\n",
        "    dy = np.array([-1,-1,0,1,1,0])\n",
        "  \n",
        "  elif stype == '8': \n",
        "    dx = np.array([0,0,1,1,1,-1,-1,-1])\n",
        "    dy = np.array([1,-1,-1,0,1,-1,0,1])\n",
        "  \n",
        "  elif stype == '4': \n",
        "    dx = np.array([0,0,1,-1])\n",
        "    dy = np.array([1,-1,1,-1])\n",
        "\n",
        "\n",
        "  else:\n",
        "    raise Exception('Not a valid stencil type.')\n",
        "  \n",
        "  return dx, dy\n",
        "\n",
        "\n",
        "def CA_2D(N, time, stype, seed_index=None):\n",
        "  \"\"\" 2D Cellular automaton.\n",
        "\n",
        "  Parameters\n",
        "  -----------------------------------------\n",
        "  N(int): Size of the grid.\n",
        "  time(int): Number of iterations.\n",
        "  stype(float): Stencil type for the neighbor connectivity. \n",
        "                Ex.: '6', '4', '8'.\n",
        "  seed_index(tuple): Index where you want to start the seed\n",
        "                     if None, will set on center.\n",
        "                     (default=None)\n",
        "\n",
        "  \"\"\"\n",
        "  \n",
        "  \n",
        "  dx, dy = stencil(stype=stype)\n",
        "\n",
        "  image = np.zeros((N,N), dtype='int')\n",
        "  \n",
        "  if not seed_index:\n",
        "    seed_index = (N//2, N//2)\n",
        "\n",
        "  image[seed_index] = 1\n",
        "\n",
        "  n_neighbor = len(dx)\n",
        "  for iteration in range(1,time):\n",
        "\n",
        "    update= np.zeros((N,N), dtype='int')\n",
        "\n",
        "    for i in range(1, N-1):\n",
        "      for j in range(1, N-1):\n",
        "\n",
        "        cumul = 0\n",
        "        \n",
        "        for k in range(0,n_neighbor):\n",
        "          cumul += image[i + dx[k], j + dy[k]]\n",
        "        \n",
        "        if image[i,j]== 0 and cumul == 1:\n",
        "          update[i,j] = 1        \n",
        "    \n",
        "    image+=update\n",
        "  \n",
        "  return image\n",
        "\n",
        "image = CA_2D(N=32, time=15, stype='8')\n",
        "plt.imshow(image)\n",
        "plt.show()\n",
        "image = CA_2D(N=32, time=15, stype='4')\n",
        "plt.imshow(image)\n",
        "plt.show()\n",
        "image = CA_2D(N=32, time=15, stype='6')\n",
        "plt.imshow(image)\n",
        "plt.show()"
      ],
      "execution_count": 85,
      "outputs": [
        {
          "output_type": "display_data",
          "data": {
            "image/png": "[encoded data removed]",
            "text/plain": [
              "<Figure size 432x288 with 1 Axes>"
            ]
          },
          "metadata": {
            "tags": [],
            "needs_background": "light"
          }
        },
        {
          "output_type": "display_data",
          "data": {
            "image/png": "[encoded data removed]",
            "text/plain": [
              "<Figure size 432x288 with 1 Axes>"
            ]
          },
          "metadata": {
            "tags": [],
            "needs_background": "light"
          }
        },
        {
          "output_type": "display_data",
          "data": {
            "image/png": "[encoded data removed]",
            "text/plain": [
              "<Figure size 432x288 with 1 Axes>"
            ]
          },
          "metadata": {
            "tags": [],
            "needs_background": "light"
          }
        }
      ]
    },
    {
      "cell_type": "code",
      "metadata": {
        "id": "Vd3DXBVIDEXU",
        "colab_type": "code",
        "colab": {}
      },
      "source": [
        ""
      ],
      "execution_count": 0,
      "outputs": []
    }
  ]
}