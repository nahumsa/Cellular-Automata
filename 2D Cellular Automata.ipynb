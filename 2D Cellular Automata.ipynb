{
  "nbformat": 4,
  "nbformat_minor": 0,
  "metadata": {
    "colab": {
      "name": "2D Cellular Automata.ipynb",
      "provenance": [],
      "collapsed_sections": [],
      "authorship_tag": "ABX9TyNzdkXZy6NuawSeMO5C7sn1",
      "include_colab_link": true
    },
    "kernelspec": {
      "name": "python3",
      "display_name": "Python 3"
    }
  },
  "cells": [
    {
      "cell_type": "markdown",
      "metadata": {
        "id": "view-in-github",
        "colab_type": "text"
      },
      "source": [
        "<a href=\"https://colab.research.google.com/github/nahumsa/Cellular-Automata/blob/master/2D%20Cellular%20Automata.ipynb\" target=\"_parent\"><img src=\"https://colab.research.google.com/assets/colab-badge.svg\" alt=\"Open In Colab\"/></a>"
      ]
    },
    {
      "cell_type": "markdown",
      "metadata": {
        "id": "GBXuHSuY7ozA",
        "colab_type": "text"
      },
      "source": [
        "# 2D Cellular Automata\n",
        "\n",
        "In this notebook, I will show some examples of 2D Cellular Automata (CA)."
      ]
    },
    {
      "cell_type": "code",
      "metadata": {
        "id": "YwPPTBUl62GH",
        "colab_type": "code",
        "colab": {}
      },
      "source": [
        "import numpy as np\n",
        "import matplotlib.pyplot as plt\n",
        "%matplotlib inline"
      ],
      "execution_count": 0,
      "outputs": []
    },
    {
      "cell_type": "markdown",
      "metadata": {
        "id": "ZWrTKqAK8j0_",
        "colab_type": "text"
      },
      "source": [
        "## 1) Types of neighbor connectivity\n",
        "\n",
        "There are many types of neighboring connectivity. Let me show some examples"
      ]
    },
    {
      "cell_type": "markdown",
      "metadata": {
        "id": "2OWcBwHF81kr",
        "colab_type": "text"
      },
      "source": [
        "## 1.1) 4-Neighbor Cartesian\n",
        "\n",
        "This is also known as *Von Neumann neighborhood*. In the image we have the neighbors of the center cell."
      ]
    },
    {
      "cell_type": "code",
      "metadata": {
        "id": "VkaUsF-z8_h3",
        "colab_type": "code",
        "outputId": "de01c197-2026-4507-bf9d-b951fc4612ea",
        "colab": {
          "base_uri": "https://localhost:8080/",
          "height": 248
        }
      },
      "source": [
        "def neumann_neighborhood(matrix,i,j):\n",
        "  \"\"\"Von Neumann Neighborhood\"\"\"\n",
        "  neighbors = [1, -1]\n",
        "  for neighbors_indices in neighbors:\n",
        "    matrix[i + neighbors_indices, j] = 1\n",
        "    matrix[i, j + neighbors_indices] = 1\n",
        "  return matrix\n",
        "\n",
        "N = 5\n",
        "M = np.zeros((N,N))\n",
        "M[N//2,N//2] = 2\n",
        "plt.imshow(neumann_neighborhood(M,N//2,N//2))\n",
        "plt.axis('off')\n",
        "plt.show()"
      ],
      "execution_count": 2,
      "outputs": [
        {
          "output_type": "display_data",
          "data": {
            "image/png": "[encoded data removed]",
            "text/plain": [
              "<Figure size 432x288 with 1 Axes>"
            ]
          },
          "metadata": {
            "tags": [],
            "needs_background": "light"
          }
        }
      ]
    },
    {
      "cell_type": "markdown",
      "metadata": {
        "id": "pNy_uLGm-dqW",
        "colab_type": "text"
      },
      "source": [
        "## 1.2) 8-Neighbor Cartesian\n",
        "\n",
        "This is also known as *Moore neighborhood*. In the image we have the neighbors of the center cell."
      ]
    },
    {
      "cell_type": "code",
      "metadata": {
        "id": "lhGetuOs-BbL",
        "colab_type": "code",
        "outputId": "3d3e61f9-60a6-44e1-e4d6-434076750d26",
        "colab": {
          "base_uri": "https://localhost:8080/",
          "height": 248
        }
      },
      "source": [
        "from itertools import permutations\n",
        "\n",
        "def moore_neighborhood(matrix,i,j):\n",
        "  \"\"\"Moore Neighborhood\"\"\"\n",
        "  neighbors = [1, -1]\n",
        "  for neighbors_indices_1,neighbors_indices_2 in permutations(neighbors):    \n",
        "    matrix[i + neighbors_indices_1, j] = 1\n",
        "    matrix[i, j + neighbors_indices_1] = 1\n",
        "    matrix[i + neighbors_indices_1, j + neighbors_indices_1] = 1\n",
        "    matrix[i + neighbors_indices_1, j + neighbors_indices_2] = 1\n",
        "  return matrix\n",
        "\n",
        "N = 5\n",
        "M = np.zeros((N,N))\n",
        "M[N//2,N//2] = 2\n",
        "plt.imshow(moore_neighborhood(M,N//2,N//2))\n",
        "plt.axis('off')\n",
        "plt.show()"
      ],
      "execution_count": 3,
      "outputs": [
        {
          "output_type": "display_data",
          "data": {
            "image/png": "[encoded data removed]",
            "text/plain": [
              "<Figure size 432x288 with 1 Axes>"
            ]
          },
          "metadata": {
            "tags": [],
            "needs_background": "light"
          }
        }
      ]
    },
    {
      "cell_type": "markdown",
      "metadata": {
        "id": "3POboJVRAhia",
        "colab_type": "text"
      },
      "source": [
        "## 1.3) 6-Neighbor Cartesian\n",
        "\n",
        "In the image we have the neighbors of the center cell. This is topologically equivalent to a triangular lattice."
      ]
    },
    {
      "cell_type": "code",
      "metadata": {
        "id": "LIDe11zY_F9-",
        "colab_type": "code",
        "outputId": "fcbf1c1e-dc3c-4436-dd58-a06e3d9c622b",
        "colab": {
          "base_uri": "https://localhost:8080/",
          "height": 248
        }
      },
      "source": [
        "def six_neighborhood(matrix,i,j):\n",
        "  \"\"\"6-neighbor Neighborhood\"\"\"\n",
        "  neighbors = [1, -1]\n",
        "  for neighbors_indices in neighbors:\n",
        "    matrix[i + neighbors_indices, j] = 1\n",
        "    matrix[i, j + neighbors_indices] = 1\n",
        "    matrix[i + neighbors_indices, j - neighbors_indices] = 1\n",
        "  return matrix\n",
        "\n",
        "N = 5\n",
        "M = np.zeros((N,N))\n",
        "M[N//2,N//2] = 2\n",
        "plt.imshow(six_neighborhood(M,N//2,N//2))\n",
        "plt.axis('off')\n",
        "plt.show()"
      ],
      "execution_count": 4,
      "outputs": [
        {
          "output_type": "display_data",
          "data": {
            "image/png": "[encoded data removed]",
            "text/plain": [
              "<Figure size 432x288 with 1 Axes>"
            ]
          },
          "metadata": {
            "tags": [],
            "needs_background": "light"
          }
        }
      ]
    },
    {
      "cell_type": "markdown",
      "metadata": {
        "id": "bRUCHTCkA4Il",
        "colab_type": "text"
      },
      "source": [
        "# 2) 2D Cellular Automaton"
      ]
    },
    {
      "cell_type": "code",
      "metadata": {
        "id": "Vd3DXBVIDEXU",
        "colab_type": "code",
        "colab": {}
      },
      "source": [
        "class CA2D:\n",
        "  \"\"\"Class that creates a 2D Cellular Automaton.\"\"\"\n",
        "\n",
        "  def __init__(self,N,time, stype, seed_index=None):\n",
        "    self.image = self._evolution(N,time,stype,seed_index)\n",
        "\n",
        "  def plot(self):\n",
        "    plt.imshow(self.image)\n",
        "    plt.axis('off')\n",
        "    plt.show()\n",
        "\n",
        "  def _stencil(self, stype):\n",
        "    \"\"\"Creates the stencil for the 2D Cellular Automaton.\"\"\"\n",
        "    if stype == '6':\n",
        "      dx = np.array([1,0,1,-1,0,-1])\n",
        "      dy = np.array([-1,-1,0,1,1,0])\n",
        "    \n",
        "    elif stype == '8': \n",
        "      dx = np.array([0,0,1,1,1,-1,-1,-1])\n",
        "      dy = np.array([1,-1,-1,0,1,-1,0,1])\n",
        "    \n",
        "    elif stype == '4': \n",
        "      dx = np.array([0,0,1,-1])\n",
        "      dy = np.array([1,-1,1,-1])\n",
        "\n",
        "\n",
        "    else:\n",
        "      raise Exception('Not a valid stencil type.')\n",
        "  \n",
        "    return dx, dy\n",
        "  \n",
        "  def _evolution(self, N, time, stype, seed_index):\n",
        "    \"\"\" Evolution 2D Cellular automaton.\n",
        "\n",
        "    Parameters\n",
        "    -----------------------------------------\n",
        "    N(int): Size of the grid.\n",
        "    time(int): Number of iterations.\n",
        "    stype(float): Stencil type for the neighbor connectivity. \n",
        "                  Ex.: '6', '4', '8'.\n",
        "    seed_index(tuple): Index where you want to start the seed\n",
        "                      if None, will set on center.\n",
        "                      (default=None)\n",
        "\n",
        "    \"\"\"\n",
        "    \n",
        "    \n",
        "    dx, dy = self._stencil(stype=stype)\n",
        "\n",
        "    image = np.zeros((N,N), dtype='int')\n",
        "    \n",
        "    if not seed_index:\n",
        "      seed_index = (N//2, N//2)\n",
        "\n",
        "    image[seed_index] = 1\n",
        "\n",
        "    n_neighbor = len(dx)\n",
        "    for iteration in range(1,time):\n",
        "\n",
        "      update= np.zeros((N,N), dtype='int')\n",
        "\n",
        "      for i in range(1, N-1):\n",
        "        for j in range(1, N-1):\n",
        "\n",
        "          cumul = 0\n",
        "          \n",
        "          for k in range(0,n_neighbor):\n",
        "            cumul += image[i + dx[k], j + dy[k]]\n",
        "          \n",
        "          if image[i,j]== 0 and cumul == 1:\n",
        "            update[i,j] = 1        \n",
        "      \n",
        "      image+=update\n",
        "    \n",
        "    return image"
      ],
      "execution_count": 0,
      "outputs": []
    },
    {
      "cell_type": "code",
      "metadata": {
        "id": "j1wUPakRMPld",
        "colab_type": "code",
        "colab": {
          "base_uri": "https://localhost:8080/",
          "height": 710
        },
        "outputId": "24d11751-1821-4fe2-b472-6aa95b33ba7a"
      },
      "source": [
        "image = CA2D(N=32, time=15, stype='8')\n",
        "image.plot()\n",
        "\n",
        "image = CA2D(N=32, time=15, stype='4')\n",
        "image.plot()\n",
        "\n",
        "image = CA2D(N=32, time=15, stype='6')\n",
        "image.plot()"
      ],
      "execution_count": 20,
      "outputs": [
        {
          "output_type": "display_data",
          "data": {
            "image/png": "[encoded data removed]",
            "text/plain": [
              "<Figure size 432x288 with 1 Axes>"
            ]
          },
          "metadata": {
            "tags": [],
            "needs_background": "light"
          }
        },
        {
          "output_type": "display_data",
          "data": {
            "image/png": "[encoded data removed]",
            "text/plain": [
              "<Figure size 432x288 with 1 Axes>"
            ]
          },
          "metadata": {
            "tags": [],
            "needs_background": "light"
          }
        },
        {
          "output_type": "display_data",
          "data": {
            "image/png": "[encoded data removed]",
            "text/plain": [
              "<Figure size 432x288 with 1 Axes>"
            ]
          },
          "metadata": {
            "tags": [],
            "needs_background": "light"
          }
        }
      ]
    },
    {
      "cell_type": "code",
      "metadata": {
        "id": "6SV0jrRmMSnF",
        "colab_type": "code",
        "colab": {}
      },
      "source": [
        ""
      ],
      "execution_count": 0,
      "outputs": []
    }
  ]
}