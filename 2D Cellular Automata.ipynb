{
  "nbformat": 4,
  "nbformat_minor": 0,
  "metadata": {
    "colab": {
      "name": "2D Cellular Automata.ipynb",
      "provenance": [],
      "collapsed_sections": [],
      "authorship_tag": "ABX9TyMTfZ+G4JDwkPTnQIogRDrZ",
      "include_colab_link": true
    },
    "kernelspec": {
      "name": "python3",
      "display_name": "Python 3"
    }
  },
  "cells": [
    {
      "cell_type": "markdown",
      "metadata": {
        "id": "view-in-github",
        "colab_type": "text"
      },
      "source": [
        "<a href=\"https://colab.research.google.com/github/nahumsa/Cellular-Automata/blob/master/2D%20Cellular%20Automata.ipynb\" target=\"_parent\"><img src=\"https://colab.research.google.com/assets/colab-badge.svg\" alt=\"Open In Colab\"/></a>"
      ]
    },
    {
      "cell_type": "markdown",
      "metadata": {
        "id": "GBXuHSuY7ozA",
        "colab_type": "text"
      },
      "source": [
        "# 2D Cellular Automata\n",
        "\n",
        "In this notebook, I will show some examples of 2D Cellular Automata (CA)."
      ]
    },
    {
      "cell_type": "code",
      "metadata": {
        "id": "YwPPTBUl62GH",
        "colab_type": "code",
        "colab": {}
      },
      "source": [
        "import numpy as np\n",
        "import matplotlib.pyplot as plt\n",
        "%matplotlib inline"
      ],
      "execution_count": 0,
      "outputs": []
    },
    {
      "cell_type": "markdown",
      "metadata": {
        "id": "ZWrTKqAK8j0_",
        "colab_type": "text"
      },
      "source": [
        "## 1) Types of neighbor connectivity\n",
        "\n",
        "There are many types of neighboring connectivity. Let me show some examples"
      ]
    },
    {
      "cell_type": "markdown",
      "metadata": {
        "id": "2OWcBwHF81kr",
        "colab_type": "text"
      },
      "source": [
        "## 1.1) 4-Neighbor Cartesian\n",
        "\n",
        "This is also known as *Von Neumann neighborhood*. In the image we have the neighbors of the center cell."
      ]
    },
    {
      "cell_type": "code",
      "metadata": {
        "id": "VkaUsF-z8_h3",
        "colab_type": "code",
        "outputId": "de01c197-2026-4507-bf9d-b951fc4612ea",
        "colab": {
          "base_uri": "https://localhost:8080/",
          "height": 248
        }
      },
      "source": [
        "def neumann_neighborhood(matrix,i,j):\n",
        "  \"\"\"Von Neumann Neighborhood\"\"\"\n",
        "  neighbors = [1, -1]\n",
        "  for neighbors_indices in neighbors:\n",
        "    matrix[i + neighbors_indices, j] = 1\n",
        "    matrix[i, j + neighbors_indices] = 1\n",
        "  return matrix\n",
        "\n",
        "N = 5\n",
        "M = np.zeros((N,N))\n",
        "M[N//2,N//2] = 2\n",
        "plt.imshow(neumann_neighborhood(M,N//2,N//2))\n",
        "plt.axis('off')\n",
        "plt.show()"
      ],
      "execution_count": 2,
      "outputs": [
        {
          "output_type": "display_data",
          "data": {
            "image/png": "[encoded data removed]",
            "text/plain": [
              "<Figure size 432x288 with 1 Axes>"
            ]
          },
          "metadata": {
            "tags": [],
            "needs_background": "light"
          }
        }
      ]
    },
    {
      "cell_type": "markdown",
      "metadata": {
        "id": "pNy_uLGm-dqW",
        "colab_type": "text"
      },
      "source": [
        "## 1.2) 8-Neighbor Cartesian\n",
        "\n",
        "This is also known as *Moore neighborhood*. In the image we have the neighbors of the center cell."
      ]
    },
    {
      "cell_type": "code",
      "metadata": {
        "id": "lhGetuOs-BbL",
        "colab_type": "code",
        "outputId": "3d3e61f9-60a6-44e1-e4d6-434076750d26",
        "colab": {
          "base_uri": "https://localhost:8080/",
          "height": 248
        }
      },
      "source": [
        "from itertools import permutations\n",
        "\n",
        "def moore_neighborhood(matrix,i,j):\n",
        "  \"\"\"Moore Neighborhood\"\"\"\n",
        "  neighbors = [1, -1]\n",
        "  for neighbors_indices_1,neighbors_indices_2 in permutations(neighbors):    \n",
        "    matrix[i + neighbors_indices_1, j] = 1\n",
        "    matrix[i, j + neighbors_indices_1] = 1\n",
        "    matrix[i + neighbors_indices_1, j + neighbors_indices_1] = 1\n",
        "    matrix[i + neighbors_indices_1, j + neighbors_indices_2] = 1\n",
        "  return matrix\n",
        "\n",
        "N = 5\n",
        "M = np.zeros((N,N))\n",
        "M[N//2,N//2] = 2\n",
        "plt.imshow(moore_neighborhood(M,N//2,N//2))\n",
        "plt.axis('off')\n",
        "plt.show()"
      ],
      "execution_count": 3,
      "outputs": [
        {
          "output_type": "display_data",
          "data": {
            "image/png": "[encoded data removed]",
            "text/plain": [
              "<Figure size 432x288 with 1 Axes>"
            ]
          },
          "metadata": {
            "tags": [],
            "needs_background": "light"
          }
        }
      ]
    },
    {
      "cell_type": "markdown",
      "metadata": {
        "id": "3POboJVRAhia",
        "colab_type": "text"
      },
      "source": [
        "## 1.3) 6-Neighbor Cartesian\n",
        "\n",
        "In the image we have the neighbors of the center cell. This is topologically equivalent to a triangular lattice."
      ]
    },
    {
      "cell_type": "code",
      "metadata": {
        "id": "LIDe11zY_F9-",
        "colab_type": "code",
        "outputId": "fcbf1c1e-dc3c-4436-dd58-a06e3d9c622b",
        "colab": {
          "base_uri": "https://localhost:8080/",
          "height": 248
        }
      },
      "source": [
        "def six_neighborhood(matrix,i,j):\n",
        "  \"\"\"6-neighbor Neighborhood\"\"\"\n",
        "  neighbors = [1, -1]\n",
        "  for neighbors_indices in neighbors:\n",
        "    matrix[i + neighbors_indices, j] = 1\n",
        "    matrix[i, j + neighbors_indices] = 1\n",
        "    matrix[i + neighbors_indices, j - neighbors_indices] = 1\n",
        "  return matrix\n",
        "\n",
        "N = 5\n",
        "M = np.zeros((N,N))\n",
        "M[N//2,N//2] = 2\n",
        "plt.imshow(six_neighborhood(M,N//2,N//2))\n",
        "plt.axis('off')\n",
        "plt.show()"
      ],
      "execution_count": 4,
      "outputs": [
        {
          "output_type": "display_data",
          "data": {
            "image/png": "[encoded data removed]",
            "text/plain": [
              "<Figure size 432x288 with 1 Axes>"
            ]
          },
          "metadata": {
            "tags": [],
            "needs_background": "light"
          }
        }
      ]
    },
    {
      "cell_type": "markdown",
      "metadata": {
        "id": "bRUCHTCkA4Il",
        "colab_type": "text"
      },
      "source": [
        "# 2) 2D Cellular Automaton\n",
        "\n",
        "In this implementation we have a OOP implementation of the 2D Cellular Automaton, with all kinds of stencils that were citted before."
      ]
    },
    {
      "cell_type": "code",
      "metadata": {
        "id": "Vd3DXBVIDEXU",
        "colab_type": "code",
        "colab": {}
      },
      "source": [
        "class CA2D:\n",
        "  \"\"\"Class that creates a 2D Cellular Automaton.\"\"\"\n",
        "\n",
        "  def __init__(self,N,time, stype, seed_index=None):\n",
        "    self.image = self._evolution(N,time,stype,seed_index)\n",
        "\n",
        "  def plot(self):\n",
        "    plt.imshow(self.image, cmap='Greys')\n",
        "    plt.axis('off')\n",
        "    plt.show()\n",
        "\n",
        "  def _stencil(self, stype):\n",
        "    \"\"\"Creates the stencil for the 2D Cellular Automaton.\"\"\"\n",
        "    if stype == '6':\n",
        "      dx = np.array([1,0,1,-1,0,-1])\n",
        "      dy = np.array([-1,-1,0,1,1,0])\n",
        "    \n",
        "    elif stype == '8': \n",
        "      dx = np.array([0,0,1,1,1,-1,-1,-1])\n",
        "      dy = np.array([1,-1,-1,0,1,-1,0,1])\n",
        "    \n",
        "    elif stype == '4': \n",
        "      dx = np.array([0,0,1,-1])\n",
        "      dy = np.array([1,-1,1,-1])\n",
        "\n",
        "\n",
        "    else:\n",
        "      raise Exception('Not a valid stencil type.')\n",
        "  \n",
        "    return dx, dy\n",
        "  \n",
        "  def _evolution(self, N, time, stype, seed_index):\n",
        "    \"\"\" Evolution 2D Cellular automaton.\n",
        "\n",
        "    Parameters\n",
        "    -----------------------------------------\n",
        "    N(int): Size of the grid.\n",
        "    time(int): Number of iterations.\n",
        "    stype(float): Stencil type for the neighbor connectivity. \n",
        "                  Ex.: '6', '4', '8'.\n",
        "    seed_index(tuple): Index where you want to start the seed\n",
        "                      if None, will set on center.\n",
        "                      (default=None)\n",
        "\n",
        "    \"\"\"\n",
        "    \n",
        "    \n",
        "    dx, dy = self._stencil(stype=stype)\n",
        "\n",
        "    image = np.zeros((N,N), dtype='int')\n",
        "    \n",
        "    if not seed_index:\n",
        "      seed_index = (N//2, N//2)\n",
        "\n",
        "    image[seed_index] = 1\n",
        "\n",
        "    n_neighbor = len(dx)\n",
        "    for iteration in range(1,time):\n",
        "\n",
        "      update= np.zeros((N,N), dtype='int')\n",
        "\n",
        "      for i in range(1, N-1):\n",
        "        for j in range(1, N-1):\n",
        "\n",
        "          cumul = 0\n",
        "          \n",
        "          for k in range(0,n_neighbor):\n",
        "            cumul += image[i + dx[k], j + dy[k]]\n",
        "          \n",
        "          if image[i,j]== 0 and cumul == 1:\n",
        "            update[i,j] = 1        \n",
        "      \n",
        "      image+=update\n",
        "    \n",
        "    return image"
      ],
      "execution_count": 0,
      "outputs": []
    },
    {
      "cell_type": "code",
      "metadata": {
        "id": "j1wUPakRMPld",
        "colab_type": "code",
        "colab": {
          "base_uri": "https://localhost:8080/",
          "height": 710
        },
        "outputId": "1d56e6c8-53c8-42cb-ae3d-9f8d783a18e5"
      },
      "source": [
        "image = CA2D(N=32, time=15, stype='8')\n",
        "image.plot()\n",
        "\n",
        "image = CA2D(N=32, time=15, stype='4')\n",
        "image.plot()\n",
        "\n",
        "image = CA2D(N=32, time=15, stype='6')\n",
        "image.plot()"
      ],
      "execution_count": 24,
      "outputs": [
        {
          "output_type": "display_data",
          "data": {
            "image/png": "[encoded data removed]",
            "text/plain": [
              "<Figure size 432x288 with 1 Axes>"
            ]
          },
          "metadata": {
            "tags": [],
            "needs_background": "light"
          }
        },
        {
          "output_type": "display_data",
          "data": {
            "image/png": "[encoded data removed]",
            "text/plain": [
              "<Figure size 432x288 with 1 Axes>"
            ]
          },
          "metadata": {
            "tags": [],
            "needs_background": "light"
          }
        },
        {
          "output_type": "display_data",
          "data": {
            "image/png": "[encoded data removed]",
            "text/plain": [
              "<Figure size 432x288 with 1 Axes>"
            ]
          },
          "metadata": {
            "tags": [],
            "needs_background": "light"
          }
        }
      ]
    },
    {
      "cell_type": "markdown",
      "metadata": {
        "id": "6SV0jrRmMSnF",
        "colab_type": "text"
      },
      "source": [
        "# 3) 2D Cellular Automata Zoo\n",
        "\n",
        "Let's focus now on the case for all 8-neighbor rules. We need a activation rules, we define it as: a node becomes active if either $n_1$ or $n_2$ neighborings are active. We also include the starting seed as $s$, this sums up as:\n",
        "\n",
        "$$\n",
        "(n_1, n_2) + s \\ , \\ 1 \\leq n_1,n_2 \\leq 8 \\ , \\ n_1 < n_2\n",
        "$$\n",
        "\n",
        "Let's add this as a module on our python class.\n"
      ]
    },
    {
      "cell_type": "code",
      "metadata": {
        "id": "CD5b7D8LQCQS",
        "colab_type": "code",
        "colab": {}
      },
      "source": [
        "class CA2D:\n",
        "  \"\"\"Class that creates a 2D Cellular Automaton.\n",
        "    \n",
        "  Initial Parameters\n",
        "  -----------------------------------------\n",
        "  N(int): Size of the grid.\n",
        "  time(int): Number of iterations.\n",
        "  n_act(list or int): Number of actives cells in order to node\n",
        "                      to be active.\n",
        "  stype(float): Stencil type for the neighbor connectivity. \n",
        "                Ex.: '6', '4', '8'. (default='8')  \n",
        "  \n",
        "  \"\"\"\n",
        "\n",
        "  def __init__(self, N, time, n_act, s, stype='8'):    \n",
        "    self.n_active = n_act    \n",
        "    \n",
        "    self.N = N\n",
        "    \n",
        "    self.dx, self.dy = self._stencil(stype=stype)\n",
        "\n",
        "    self.image = np.zeros((N,N), dtype='int')        \n",
        "    \n",
        "    for i in range(s):      \n",
        "      x = N//2\n",
        "      y = N//2 + i\n",
        "      self.image[x,y] = 1\n",
        "    \n",
        "    fig = plt.figure(figsize=(16,10))\n",
        "    gs = fig.add_gridspec(1, 2)\n",
        "    ax1 = fig.add_subplot(gs[0, 0])\n",
        "    ax2 = fig.add_subplot(gs[0, 1])\n",
        "\n",
        "    self.plot('Initial Seed', ax=ax1)\n",
        "    \n",
        "    self._evolution(N,time,stype)\n",
        "    \n",
        "    self.plot('After Evolution', ax=ax2)\n",
        "    \n",
        "    plt.show()\n",
        "\n",
        "  def plot(self, title, ax=None):\n",
        "    if not ax:\n",
        "      plt.imshow(self.image, cmap='Greys')\n",
        "      plt.title(title, size=16)\n",
        "      plt.axis('off')\n",
        "      plt.show()\n",
        "    \n",
        "    else:\n",
        "      ax.imshow(self.image, cmap='Greys')\n",
        "      ax.set_title(title, size=16)\n",
        "      ax.axis('off')      \n",
        "\n",
        "  def _stencil(self, stype):\n",
        "    \"\"\"Creates the stencil for the 2D Cellular Automaton.\"\"\"\n",
        "    if stype == '6':\n",
        "      dx = np.array([1,0,1,-1,0,-1])\n",
        "      dy = np.array([-1,-1,0,1,1,0])\n",
        "    \n",
        "    elif stype == '8': \n",
        "      dx = np.array([0,0,1,1,1,-1,-1,-1])\n",
        "      dy = np.array([1,-1,-1,0,1,-1,0,1])\n",
        "    \n",
        "    elif stype == '4': \n",
        "      dx = np.array([0,0,1,-1])\n",
        "      dy = np.array([1,-1,1,-1])\n",
        "\n",
        "\n",
        "    else:\n",
        "      raise Exception('Not a valid stencil type.')\n",
        "  \n",
        "    return dx, dy\n",
        "  \n",
        "  def _rule(self, i, j):\n",
        "    \"\"\"Return true values if sattisfies the number of \n",
        "    active cells.\n",
        "    \n",
        "    \"\"\"\n",
        "    #Check if it is a int\n",
        "\n",
        "    if type(self.n_active) == int:      \n",
        "      return self.cumul == self.n_active\n",
        "\n",
        "    else:\n",
        "      return self.cumul in self.n_active\n",
        "\n",
        "  def _evolution(self, N, time, stype):\n",
        "    \"\"\" Evolution 2D Cellular automaton.\n",
        "\n",
        "    Parameters\n",
        "    -----------------------------------------\n",
        "    N(int): Size of the grid.\n",
        "    time(int): Number of iterations.\n",
        "    stype(float): Stencil type for the neighbor connectivity. \n",
        "                  Ex.: '6', '4', '8'.\n",
        "    seed_index(tuple): Index where you want to start the seed\n",
        "                      if None, will set on center.\n",
        "                      (default=None)\n",
        "\n",
        "    \"\"\"\n",
        "    \n",
        "    n_neighbor = len(self.dx)\n",
        "\n",
        "    for iteration in range(1,time):\n",
        "\n",
        "      update= np.zeros((N,N), dtype='int')\n",
        "\n",
        "      for i in range(1, N-1):\n",
        "        for j in range(1, N-1):\n",
        "\n",
        "          self.cumul = 0\n",
        "          \n",
        "          for k in range(0,n_neighbor):\n",
        "            self.cumul += self.image[i + self.dx[k], j + self.dy[k]]\n",
        "          \n",
        "          if self._rule(i,j) and self.image[i,j] == 0:\n",
        "            update[i,j] = 1        \n",
        "      \n",
        "      self.image += update"
      ],
      "execution_count": 0,
      "outputs": []
    },
    {
      "cell_type": "code",
      "metadata": {
        "id": "zjnFbQ9sR6v3",
        "colab_type": "code",
        "colab": {
          "base_uri": "https://localhost:8080/",
          "height": 893
        },
        "outputId": "e0107ba8-a754-4ec2-92dc-18cb2fb12e4b"
      },
      "source": [
        "image = CA2D(N=100, time=100, n_act=[2,4], s=3)\n",
        "image = CA2D(N=100, time=100, n_act=[1], s=1)"
      ],
      "execution_count": 104,
      "outputs": [
        {
          "output_type": "display_data",
          "data": {
            "image/png": "[encoded data removed]",
            "text/plain": [
              "<Figure size 1152x720 with 2 Axes>"
            ]
          },
          "metadata": {
            "tags": [],
            "needs_background": "light"
          }
        },
        {
          "output_type": "display_data",
          "data": {
            "image/png": "[encoded data removed]",
            "text/plain": [
              "<Figure size 1152x720 with 2 Axes>"
            ]
          },
          "metadata": {
            "tags": [],
            "needs_background": "light"
          }
        }
      ]
    }
  ]
}